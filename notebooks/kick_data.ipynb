{
 "metadata": {
  "name": "kick_data"
 },
 "nbformat": 3,
 "nbformat_minor": 0,
 "worksheets": [
  {
   "cells": [
    {
     "cell_type": "code",
     "collapsed": false,
     "input": [
      "import json\n",
      "jdata = json.load(open('../projects.json','r'))\n",
      "len(jdata)"
     ],
     "language": "python",
     "metadata": {},
     "outputs": [
      {
       "output_type": "pyout",
       "prompt_number": 3,
       "text": [
        "947"
       ]
      }
     ],
     "prompt_number": 3
    },
    {
     "cell_type": "code",
     "collapsed": false,
     "input": [
      "import numpy as np\n",
      "from pandas import DataFrame"
     ],
     "language": "python",
     "metadata": {},
     "outputs": [],
     "prompt_number": 4
    },
    {
     "cell_type": "code",
     "collapsed": false,
     "input": [
      "df = DataFrame(jdata)"
     ],
     "language": "python",
     "metadata": {},
     "outputs": [],
     "prompt_number": 5
    },
    {
     "cell_type": "code",
     "collapsed": false,
     "input": [
      "df"
     ],
     "language": "python",
     "metadata": {},
     "outputs": [
      {
       "output_type": "pyout",
       "prompt_number": 6,
       "text": [
        "<class 'pandas.core.frame.DataFrame'>\n",
        "Int64Index: 947 entries, 0 to 946\n",
        "Data columns:\n",
        "backers        947  non-null values\n",
        "category       947  non-null values\n",
        "creator        947  non-null values\n",
        "end_date       947  non-null values\n",
        "goal           947  non-null values\n",
        "len_faq        947  non-null values\n",
        "name           947  non-null values\n",
        "num_updates    947  non-null values\n",
        "place          947  non-null values\n",
        "pledged        947  non-null values\n",
        "progress       947  non-null values\n",
        "start_date     947  non-null values\n",
        "dtypes: float64(3), int64(3), object(6)"
       ]
      }
     ],
     "prompt_number": 6
    },
    {
     "cell_type": "code",
     "collapsed": false,
     "input": [],
     "language": "python",
     "metadata": {},
     "outputs": []
    }
   ],
   "metadata": {}
  }
 ]
}